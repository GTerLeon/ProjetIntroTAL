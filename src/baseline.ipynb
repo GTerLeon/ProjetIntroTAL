{
 "cells": [
  {
   "cell_type": "markdown",
   "id": "0a1076e3",
   "metadata": {},
   "source": [
    "# Méthode de référence\n",
    "\n",
    "Cette méthode prédit aléatoirement le type de la recette"
   ]
  },
  {
   "cell_type": "code",
   "execution_count": 6,
   "id": "0212cc39",
   "metadata": {},
   "outputs": [],
   "source": [
    "import pandas as pd\n",
    "import random\n",
    "import datetime\n",
    "from sklearn.pipeline import make_pipeline\n",
    "from sklearn.metrics import accuracy_score\n",
    "from sklearn.svm import LinearSVC\n",
    "from sklearn.model_selection import train_test_split\n",
    "from sklearn.feature_extraction.text import TfidfVectorizer\n",
    "from sklearn.metrics import classification_report\n",
    "from io import StringIO"
   ]
  },
  {
   "cell_type": "code",
   "execution_count": 7,
   "id": "8a8f04d1",
   "metadata": {},
   "outputs": [],
   "source": [
    "now = datetime.datetime.now().strftime(format=\"%Y-%m-%d_%H-%M\")\n",
    "X_train = pd.read_csv(\"../data/train-sep.csv\")\n",
    "X_test = pd.read_csv(\"../data/test.csv\")\n",
    "predictions = []\n",
    "type = ['Entrée', 'Dessert', 'Plat principal']\n",
    "i = 0\n",
    "while i < (len(X_test)):\n",
    "    predictions.append(random.choice(type))\n",
    "    i = i + 1\n"
   ]
  },
  {
   "cell_type": "code",
   "execution_count": 8,
   "id": "8e9cb8d5",
   "metadata": {},
   "outputs": [
    {
     "name": "stdout",
     "output_type": "stream",
     "text": [
      "-----------------------------\n",
      "                   doc_id                       titre            type  \\\n",
      "count                1388                        1388            1388   \n",
      "unique               1388                        1387               3   \n",
      "top     recette_84191.xml  Tarte au fromage de chèvre  Plat principal   \n",
      "freq                    1                           2             644   \n",
      "\n",
      "         difficulte        cout  \\\n",
      "count          1388        1388   \n",
      "unique            4           3   \n",
      "top     Très facile  Bon marché   \n",
      "freq            697         940   \n",
      "\n",
      "                                              ingredients  \\\n",
      "count                                                1388   \n",
      "unique                                               1388   \n",
      "top     - Pour la garniture: - 1 boîte de lait concent...   \n",
      "freq                                                    1   \n",
      "\n",
      "                                                  recette  \n",
      "count                                                1388  \n",
      "unique                                               1388  \n",
      "top     La veille, préparer de la confiture de lait en...  \n",
      "freq                                                    1  \n",
      "-----------------------------\n",
      "                   doc_id            titre            type   difficulte  \\\n",
      "count                8731             8731            8731         8731   \n",
      "unique               8731             8712               3            4   \n",
      "top     recette_21160.xml  Tarte au citron  Plat principal  Très facile   \n",
      "freq                    1                3            4039         4376   \n",
      "\n",
      "              cout                                        ingredients  \\\n",
      "count         8731                                               8731   \n",
      "unique           3                                               8731   \n",
      "top     Bon marché  - 500 g de fromage blanc (allégé ou pas)  - 50...   \n",
      "freq          5911                                                  1   \n",
      "\n",
      "                                                  recette  \n",
      "count                                                8731  \n",
      "unique                                               8731  \n",
      "top     Écraser les biscuits à la fourchette, ajouter ...  \n",
      "freq                                                    1  \n"
     ]
    }
   ],
   "source": [
    "print(\"-----------------------------\")\n",
    "print (X_test.describe())\n",
    "print(\"-----------------------------\")\n",
    "print (X_train.describe())"
   ]
  },
  {
   "cell_type": "code",
   "execution_count": 9,
   "id": "1e22a111",
   "metadata": {},
   "outputs": [
    {
     "name": "stdout",
     "output_type": "stream",
     "text": [
      "0              Dessert\n",
      "1              Dessert\n",
      "2       Plat principal\n",
      "3       Plat principal\n",
      "4               Entrée\n",
      "             ...      \n",
      "1383    Plat principal\n",
      "1384            Entrée\n",
      "1385           Dessert\n",
      "1386    Plat principal\n",
      "1387    Plat principal\n",
      "Name: type, Length: 1388, dtype: object\n",
      "1388\n"
     ]
    }
   ],
   "source": [
    "\n",
    "# Création d'un DataFrame pour comparer les prédictions et les références\n",
    "resultats = pd.DataFrame({\n",
    "    'Titre': X_test['titre'],\n",
    "    'Categorie Réelle': X_test['type'],\n",
    "    'Categorie Prédite': predictions\n",
    "})\n",
    "\n",
    "# Réinitialisation de l'index pour une meilleure lisibilité\n",
    "resultats.reset_index(drop=True, inplace=True)\n",
    "\n",
    "# Affichage du tableau des résultats\n",
    "print(X_test['type'])\n",
    "\n",
    "print(len(predictions))"
   ]
  },
  {
   "cell_type": "code",
   "execution_count": 10,
   "id": "57ef0619",
   "metadata": {},
   "outputs": [
    {
     "name": "stdout",
     "output_type": "stream",
     "text": [
      "Rapport de classification :\n",
      "                 precision    recall  f1-score   support\n",
      "\n",
      "       Dessert       0.30      0.32      0.31       407\n",
      "        Entrée       0.24      0.34      0.28       337\n",
      "Plat principal       0.44      0.32      0.37       644\n",
      "\n",
      "      accuracy                           0.32      1388\n",
      "     macro avg       0.33      0.33      0.32      1388\n",
      "  weighted avg       0.35      0.32      0.33      1388\n",
      "\n"
     ]
    }
   ],
   "source": [
    "# Sauvegarder le tableau dans un fichier CSV\n",
    "resultats.to_csv('resultats_predictions.csv', index=False)\n",
    "y_test = X_train['type']\n",
    "\n",
    "# Génération d'un rapport de classification\n",
    "rapport_classification = classification_report(X_test['type'], predictions)\n",
    "print('Rapport de classification :\\n', rapport_classification)\n",
    "\n",
    "rapport_df = pd.read_fwf(StringIO(rapport_classification), delimiter=';', header=0)\n",
    "rapport_df.to_csv(f'../data/result/result_baseline_{now}.csv', index=False)"
   ]
  },
  {
   "cell_type": "code",
   "execution_count": 1,
   "id": "99a7abe3",
   "metadata": {},
   "outputs": [],
   "source": [
    "from sklearn.metrics import ConfusionMatrixDisplay\n",
    "\n",
    "fig = ConfusionMatrixDisplay.from_predictions(X_test['type'], predictions)\n",
    "fig.ax_.set_title(\"Matrice de confusion Word2Vec\")\n",
    "\n",
    "print(fig.confusion_matrix)"
   ]
  }
 ],
 "metadata": {
  "kernelspec": {
   "display_name": "Python 3 (ipykernel)",
   "language": "python",
   "name": "python3"
  },
  "language_info": {
   "codemirror_mode": {
    "name": "ipython",
    "version": 3
   },
   "file_extension": ".py",
   "mimetype": "text/x-python",
   "name": "python",
   "nbconvert_exporter": "python",
   "pygments_lexer": "ipython3",
   "version": "3.10.12"
  }
 },
 "nbformat": 4,
 "nbformat_minor": 5
}
