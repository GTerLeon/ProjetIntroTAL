{
 "cells": [
  {
   "cell_type": "code",
   "execution_count": 1,
   "id": "02146d75",
   "metadata": {},
   "outputs": [],
   "source": [
    "import pandas as pd"
   ]
  },
  {
   "cell_type": "markdown",
   "id": "8ffe0bef",
   "metadata": {},
   "source": [
    "Charger le corpus d'entrainement"
   ]
  },
  {
   "cell_type": "code",
   "execution_count": 2,
   "id": "821b90d0",
   "metadata": {},
   "outputs": [
    {
     "name": "stdout",
     "output_type": "stream",
     "text": [
      "                   doc_id                                              titre  \\\n",
      "0      recette_221358.xml  Feuilleté de saumon et de poireau, sauce aux c...   \n",
      "1       recette_48656.xml                       Cake poulet/moutarde/amandes   \n",
      "2       recette_30049.xml           Bûche à la truite fumée (7ème rencontre)   \n",
      "3       recette_71424.xml    Gâteau au yaourt au coco sans huile de laetitia   \n",
      "4      recette_217204.xml                             Crêpes au canard laqué   \n",
      "...                   ...                                                ...   \n",
      "12468   recette_88545.xml                           Tarte thon et courgettes   \n",
      "12469   recette_36440.xml                      Gratin de légumes à la viande   \n",
      "12470  recette_174633.xml             Tagliatelles fraiches au Montepulciano   \n",
      "12471   recette_43030.xml  Bavarois praliné pistache, coeur de mousse au ...   \n",
      "12472   recette_56276.xml                          Grand tralala au chocolat   \n",
      "\n",
      "                 type             difficulte        cout  \\\n",
      "0      Plat principal                 Facile       Moyen   \n",
      "1              Entrée            Très facile  Bon marché   \n",
      "2              Entrée  Moyennement difficile  Assez Cher   \n",
      "3             Dessert            Très facile  Bon marché   \n",
      "4              Entrée  Moyennement difficile       Moyen   \n",
      "...               ...                    ...         ...   \n",
      "12468  Plat principal                 Facile  Bon marché   \n",
      "12469  Plat principal                 Facile  Bon marché   \n",
      "12470  Plat principal              Difficile       Moyen   \n",
      "12471         Dessert              Difficile  Assez Cher   \n",
      "12472         Dessert              Difficile       Moyen   \n",
      "\n",
      "                                             ingredients  \\\n",
      "0      - 1 gros pavé de saumon - 100 g de crevettes d...   \n",
      "1      - 3 œufs - 150 g de farine - 1 sachet de levur...   \n",
      "2      - 800 g de filet de truite saumonnée fumée en ...   \n",
      "3      - 1 pot de yaourt - 1 pot de lait de coco - 3 ...   \n",
      "4      - 90 g de farine - 45 g de maïzena - 2 œufs - ...   \n",
      "...                                                  ...   \n",
      "12468  - 1 pâte feuilleté - 2 œufs - 2 courgettes moy...   \n",
      "12469  - 500 g de pommes de terre  - 400 g de carotte...   \n",
      "12470  - Pour les tagliatelles : - 150 g de semoule f...   \n",
      "12471  - Pour le biscuit Dacquoise : - 160 g de blanc...   \n",
      "12472  - Pour la base craquante: - 60 g de crêpes den...   \n",
      "\n",
      "                                                 recette  \n",
      "0      Couper finement le blanc et un peu de vert des...  \n",
      "1      Couper finement l'échalote, la faire revenir à...  \n",
      "2      Faites blanchir les épinards à l'eau bouillant...  \n",
      "3      Mélanger dans l'ordre tous les ingrédients en ...  \n",
      "4      Fouetter les œufs avec l'eau, le lait et le su...  \n",
      "...                                                  ...  \n",
      "12468  Couper les courgettes en fines rondelles, les ...  \n",
      "12469  Epluchez les pommes de terre et lavez-les. Cou...  \n",
      "12470  Je conseille de préparer les tagliatelles la v...  \n",
      "12471  Petits commentaires :J'ai indiqué les recettes...  \n",
      "12472  Faites fondre les 150 g de chocolat pour la fe...  \n",
      "\n",
      "[12473 rows x 7 columns]\n"
     ]
    }
   ],
   "source": [
    "train = pd.read_csv(\"train.csv\")\n",
    "print(train)"
   ]
  }
 ],
 "metadata": {
  "kernelspec": {
   "display_name": "Python 3 (ipykernel)",
   "language": "python",
   "name": "python3"
  },
  "language_info": {
   "codemirror_mode": {
    "name": "ipython",
    "version": 3
   },
   "file_extension": ".py",
   "mimetype": "text/x-python",
   "name": "python",
   "nbconvert_exporter": "python",
   "pygments_lexer": "ipython3",
   "version": "3.8.10"
  }
 },
 "nbformat": 4,
 "nbformat_minor": 5
}
