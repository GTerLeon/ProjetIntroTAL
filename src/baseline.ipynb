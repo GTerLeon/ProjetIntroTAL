{
 "cells": [
  {
   "cell_type": "markdown",
   "id": "0a1076e3",
   "metadata": {},
   "source": [
    "# Méthode de référence\n",
    "\n",
    "Cette méthode prédit aléatoirement le type de la recette"
   ]
  },
  {
   "cell_type": "code",
   "execution_count": 1,
   "id": "0212cc39",
   "metadata": {},
   "outputs": [],
   "source": [
    "import pandas as pd\n",
    "import random\n",
    "from sklearn.pipeline import make_pipeline\n",
    "from sklearn.metrics import accuracy_score\n",
    "from sklearn.svm import LinearSVC\n",
    "from sklearn.model_selection import train_test_split\n",
    "from sklearn.feature_extraction.text import TfidfVectorizer\n",
    "from sklearn.metrics import classification_report"
   ]
  },
  {
   "cell_type": "code",
   "execution_count": 2,
   "id": "8a8f04d1",
   "metadata": {},
   "outputs": [],
   "source": [
    "df = pd.read_csv(\"../data/train-sep.csv\")\n",
    "X_test = pd.read_csv(\"../data/train-sep.csv\")\n",
    "predictions = []\n",
    "type = ['Entrée', 'Dessert', 'Plat principal']\n",
    "i = 0\n",
    "while i < (len(df)):\n",
    "    predictions.append(random.choice(type))\n",
    "    i = i + 1\n"
   ]
  },
  {
   "cell_type": "code",
   "execution_count": 3,
   "id": "8e9cb8d5",
   "metadata": {},
   "outputs": [
    {
     "name": "stdout",
     "output_type": "stream",
     "text": [
      "8731\n",
      "8731\n"
     ]
    }
   ],
   "source": [
    "print(len(df))\n",
    "print(len(X_test))"
   ]
  },
  {
   "cell_type": "code",
   "execution_count": 4,
   "id": "1e22a111",
   "metadata": {},
   "outputs": [
    {
     "name": "stdout",
     "output_type": "stream",
     "text": [
      "                                                  Titre Categorie Réelle  \\\n",
      "0                                  Savoureux Cheesecake          Dessert   \n",
      "1                                   Tarte kiwi chocolat          Dessert   \n",
      "2          Quatre-quarts aromatisé au thé à la violette          Dessert   \n",
      "3                               Terrine mixte au jambon           Entrée   \n",
      "4             Linguine aux épinards et aux deux saumons   Plat principal   \n",
      "...                                                 ...              ...   \n",
      "8726                                    Poulet Bragance   Plat principal   \n",
      "8727             Omelette au sucre (ou omelette kabyle)          Dessert   \n",
      "8728  Pistachiers aux fraises de Marielle (19ème ren...          Dessert   \n",
      "8729          CLAFOUTIS AUX POMMES, AMANDES ET CALVADOS          Dessert   \n",
      "8730                  Gâteau de pâtisserie appelé Figue          Dessert   \n",
      "\n",
      "     Categorie Prédite  \n",
      "0               Entrée  \n",
      "1               Entrée  \n",
      "2              Dessert  \n",
      "3              Dessert  \n",
      "4              Dessert  \n",
      "...                ...  \n",
      "8726    Plat principal  \n",
      "8727    Plat principal  \n",
      "8728            Entrée  \n",
      "8729           Dessert  \n",
      "8730    Plat principal  \n",
      "\n",
      "[8731 rows x 3 columns]\n"
     ]
    }
   ],
   "source": [
    "\n",
    "# Création d'un DataFrame pour comparer les prédictions et les références\n",
    "resultats = pd.DataFrame({\n",
    "    'Titre': X_test['titre'],\n",
    "    'Categorie Réelle': X_test['type'],\n",
    "    'Categorie Prédite': predictions\n",
    "})\n",
    "\n",
    "# Réinitialisation de l'index pour une meilleure lisibilité\n",
    "resultats.reset_index(drop=True, inplace=True)\n",
    "\n",
    "# Affichage du tableau des résultats\n",
    "print(resultats)"
   ]
  },
  {
   "cell_type": "code",
   "execution_count": 6,
   "id": "57ef0619",
   "metadata": {},
   "outputs": [
    {
     "name": "stdout",
     "output_type": "stream",
     "text": [
      "Rapport de classification :\n",
      "                 precision    recall  f1-score   support\n",
      "\n",
      "       Dessert       0.31      0.35      0.33      2656\n",
      "        Entrée       0.22      0.32      0.26      2036\n",
      "Plat principal       0.48      0.34      0.39      4039\n",
      "\n",
      "      accuracy                           0.34      8731\n",
      "     macro avg       0.34      0.34      0.33      8731\n",
      "  weighted avg       0.37      0.34      0.34      8731\n",
      "\n"
     ]
    },
    {
     "ename": "AttributeError",
     "evalue": "'str' object has no attribute 'to_csv'",
     "output_type": "error",
     "traceback": [
      "\u001b[0;31m---------------------------------------------------------------------------\u001b[0m",
      "\u001b[0;31mAttributeError\u001b[0m                            Traceback (most recent call last)",
      "Cell \u001b[0;32mIn [6], line 8\u001b[0m\n\u001b[1;32m      6\u001b[0m rapport_classification \u001b[38;5;241m=\u001b[39m classification_report(y_test, predictions)\n\u001b[1;32m      7\u001b[0m \u001b[38;5;28mprint\u001b[39m(\u001b[38;5;124m'\u001b[39m\u001b[38;5;124mRapport de classification :\u001b[39m\u001b[38;5;130;01m\\n\u001b[39;00m\u001b[38;5;124m'\u001b[39m, rapport_classification)\n\u001b[0;32m----> 8\u001b[0m \u001b[43mrapport_classification\u001b[49m\u001b[38;5;241;43m.\u001b[39;49m\u001b[43mto_csv\u001b[49m(\u001b[38;5;124m'\u001b[39m\u001b[38;5;124m..data/result.csv\u001b[39m\u001b[38;5;124m'\u001b[39m, index\u001b[38;5;241m=\u001b[39m\u001b[38;5;28;01mFalse\u001b[39;00m)\n",
      "\u001b[0;31mAttributeError\u001b[0m: 'str' object has no attribute 'to_csv'"
     ]
    }
   ],
   "source": [
    "# Optionnel: Sauvegarder le tableau dans un fichier CSV\n",
    "resultats.to_csv('resultats_predictions.csv', index=False)\n",
    "y_test = X_test['type']\n",
    "\n",
    "# Génération d'un rapport de classification\n",
    "rapport_classification = classification_report(y_test, predictions)\n",
    "print('Rapport de classification :\\n', rapport_classification)\n",
    "\n",
    "rapport_df = pd.read_fwf(StringIO(rapport_classification), delimiter=';', header=0)\n",
    "rapport_df.to_csv('../data/result_baseline.csv', index=False)"
   ]
  }
 ],
 "metadata": {
  "kernelspec": {
   "display_name": "Python 3 (ipykernel)",
   "language": "python",
   "name": "python3"
  },
  "language_info": {
   "codemirror_mode": {
    "name": "ipython",
    "version": 3
   },
   "file_extension": ".py",
   "mimetype": "text/x-python",
   "name": "python",
   "nbconvert_exporter": "python",
   "pygments_lexer": "ipython3",
   "version": "3.10.12"
  }
 },
 "nbformat": 4,
 "nbformat_minor": 5
}
