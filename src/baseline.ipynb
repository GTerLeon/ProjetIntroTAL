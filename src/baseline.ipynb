{
 "cells": [
  {
   "cell_type": "markdown",
   "id": "0a1076e3",
   "metadata": {},
   "source": [
    "# Méthode de référence\n",
    "\n",
    "Cette méthode prédit aléatoirement le type de la recette"
   ]
  },
  {
   "cell_type": "code",
   "execution_count": 2,
   "id": "0212cc39",
   "metadata": {},
   "outputs": [],
   "source": [
    "import pandas as pd\n",
    "import random\n",
    "import datetime\n",
    "from sklearn.pipeline import make_pipeline\n",
    "from sklearn.metrics import accuracy_score\n",
    "from sklearn.svm import LinearSVC\n",
    "from sklearn.model_selection import train_test_split\n",
    "from sklearn.feature_extraction.text import TfidfVectorizer\n",
    "from sklearn.metrics import classification_report\n",
    "from io import StringIO"
   ]
  },
  {
   "cell_type": "code",
   "execution_count": 15,
   "id": "8a8f04d1",
   "metadata": {},
   "outputs": [],
   "source": [
    "now = datetime.datetime.now().strftime(format=\"%Y-%m-%d_%H-%M\")\n",
    "X_train = pd.read_csv(\"../data/train-sep.csv\")\n",
    "X_test = pd.read_csv(\"../data/test.csv\")\n",
    "predictions = []\n",
    "type = ['Entrée', 'Dessert', 'Plat principal']\n",
    "i = 0\n",
    "while i < (len(X_test)):\n",
    "    predictions.append(random.choice(type))\n",
    "    i = i + 1\n"
   ]
  },
  {
   "cell_type": "code",
   "execution_count": 17,
   "id": "8e9cb8d5",
   "metadata": {},
   "outputs": [
    {
     "name": "stdout",
     "output_type": "stream",
     "text": [
      "1388\n"
     ]
    }
   ],
   "source": [
    "print(len(predictions))"
   ]
  },
  {
   "cell_type": "code",
   "execution_count": 18,
   "id": "1e22a111",
   "metadata": {},
   "outputs": [
    {
     "name": "stdout",
     "output_type": "stream",
     "text": [
      "0              Dessert\n",
      "1              Dessert\n",
      "2       Plat principal\n",
      "3       Plat principal\n",
      "4               Entrée\n",
      "             ...      \n",
      "1383    Plat principal\n",
      "1384            Entrée\n",
      "1385           Dessert\n",
      "1386    Plat principal\n",
      "1387    Plat principal\n",
      "Name: type, Length: 1388, dtype: object\n",
      "1388\n"
     ]
    }
   ],
   "source": [
    "\n",
    "# Création d'un DataFrame pour comparer les prédictions et les références\n",
    "resultats = pd.DataFrame({\n",
    "    'Titre': X_test['titre'],\n",
    "    'Categorie Réelle': X_test['type'],\n",
    "    'Categorie Prédite': predictions\n",
    "})\n",
    "\n",
    "# Réinitialisation de l'index pour une meilleure lisibilité\n",
    "resultats.reset_index(drop=True, inplace=True)\n",
    "\n",
    "# Affichage du tableau des résultats\n",
    "print(X_test['type'])\n",
    "\n",
    "print(len(predictions))"
   ]
  },
  {
   "cell_type": "code",
   "execution_count": 19,
   "id": "57ef0619",
   "metadata": {},
   "outputs": [
    {
     "name": "stdout",
     "output_type": "stream",
     "text": [
      "Rapport de classification :\n",
      "                 precision    recall  f1-score   support\n",
      "\n",
      "       Dessert       0.31      0.35      0.32       407\n",
      "        Entrée       0.26      0.34      0.29       337\n",
      "Plat principal       0.48      0.35      0.41       644\n",
      "\n",
      "      accuracy                           0.35      1388\n",
      "     macro avg       0.35      0.35      0.34      1388\n",
      "  weighted avg       0.37      0.35      0.36      1388\n",
      "\n"
     ]
    }
   ],
   "source": [
    "# Sauvegarder le tableau dans un fichier CSV\n",
    "resultats.to_csv('resultats_predictions.csv', index=False)\n",
    "y_test = X_train['type']\n",
    "\n",
    "# Génération d'un rapport de classification\n",
    "rapport_classification = classification_report(X_test['type'], predictions)\n",
    "print('Rapport de classification :\\n', rapport_classification)\n",
    "\n",
    "rapport_df = pd.read_fwf(StringIO(rapport_classification), delimiter=';', header=0)\n",
    "rapport_df.to_csv(f'../data/result/result_baseline_{now}.csv', index=False)"
   ]
  }
 ],
 "metadata": {
  "kernelspec": {
   "display_name": "Python 3 (ipykernel)",
   "language": "python",
   "name": "python3"
  },
  "language_info": {
   "codemirror_mode": {
    "name": "ipython",
    "version": 3
   },
   "file_extension": ".py",
   "mimetype": "text/x-python",
   "name": "python",
   "nbconvert_exporter": "python",
   "pygments_lexer": "ipython3",
   "version": "3.10.12"
  }
 },
 "nbformat": 4,
 "nbformat_minor": 5
}
