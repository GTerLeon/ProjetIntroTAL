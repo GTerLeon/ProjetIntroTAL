{
 "cells": [
  {
   "cell_type": "code",
   "execution_count": 5,
   "id": "19399d2a",
   "metadata": {},
   "outputs": [],
   "source": [
    "import pandas as pd\n",
    "from sklearn.model_selection import train_test_split"
   ]
  },
  {
   "cell_type": "markdown",
   "id": "b74e2376",
   "metadata": {},
   "source": [
    "Charger le corpus d'entrainement"
   ]
  },
  {
   "cell_type": "code",
   "execution_count": 6,
   "id": "27e81c5f",
   "metadata": {},
   "outputs": [
    {
     "name": "stdout",
     "output_type": "stream",
     "text": [
      "                  doc_id                                              titre  \\\n",
      "0      recette_84191.xml                       Roulé à la confiture de lait   \n",
      "1      recette_26585.xml                             Croissants aux amandes   \n",
      "2     recette_176139.xml  Quinoa Phileas (aux légumes croquants et sauci...   \n",
      "3      recette_14285.xml                Magret de canard à la crème de mûre   \n",
      "4      recette_20895.xml  St-Jacques a la sauce aux huitres et aux asperges   \n",
      "...                  ...                                                ...   \n",
      "1383   recette_20785.xml             Galettes de pommes de terre aux navets   \n",
      "1384   recette_28768.xml  Terrine d'aubergines au thon de Nadine (4ème r...   \n",
      "1385   recette_73573.xml              Gateau aux amandes et fleur d'oranger   \n",
      "1386  recette_166909.xml                               Cailles au vin rouge   \n",
      "1387   recette_68388.xml  Gratin de pâtes au boeuf, courgettes et mascar...   \n",
      "\n",
      "                type             difficulte        cout  \\\n",
      "0            Dessert  Moyennement difficile  Bon marché   \n",
      "1            Dessert  Moyennement difficile       Moyen   \n",
      "2     Plat principal  Moyennement difficile       Moyen   \n",
      "3     Plat principal  Moyennement difficile       Moyen   \n",
      "4             Entrée  Moyennement difficile       Moyen   \n",
      "...              ...                    ...         ...   \n",
      "1383  Plat principal                 Facile       Moyen   \n",
      "1384          Entrée                 Facile  Bon marché   \n",
      "1385         Dessert                 Facile  Bon marché   \n",
      "1386  Plat principal                 Facile       Moyen   \n",
      "1387  Plat principal                 Facile  Bon marché   \n",
      "\n",
      "                                            ingredients  \\\n",
      "0     - Pour la garniture: - 1 boîte de lait concent...   \n",
      "1     - 250 g de farine - 1 pincée de sel - 1 cuillè...   \n",
      "2     - 250 g de quinoa  - 1 gros oignon blanc - 1 g...   \n",
      "3     - 1 magret de canard - 5 cl de crème de mûre -...   \n",
      "4     - 10 cl de vin blanc sec - 18 asperges vertes ...   \n",
      "...                                                 ...   \n",
      "1383  - 750 g de pommes de terre - 750 g de navets -...   \n",
      "1384  - 4 petits poivrons ou 3 gros, de chaque coule...   \n",
      "1385  - 250 g de farine  - 1/2 sachet de levure  - 1...   \n",
      "1386  - 4 - 6 cailles (dépend si ce sont de gros man...   \n",
      "1387  - 400 g de boeuf haché - 1 grosse courgette - ...   \n",
      "\n",
      "                                                recette  \n",
      "0     La veille, préparer de la confiture de lait en...  \n",
      "1     Croissants : Pétrir les ingrédients pour en fa...  \n",
      "2     Faites cuire le quinoa pendant 12 minutes dans...  \n",
      "3     Après avoir confectionné la sauce au vin, lui ...  \n",
      "4     Ouvrez, videz et nettoyez les coquilles Saint-...  \n",
      "...                                                 ...  \n",
      "1383  Râper les légumes et les assaisonner. Ajouter ...  \n",
      "1384  Laver les poivrons, les placer entiers dans un...  \n",
      "1385  Mélanger la farine, la levure, le sucre, la fl...  \n",
      "1386  Tout d'abords, vérifier que vos cailles n'aien...  \n",
      "1387  Dans un plat allant au four, versez un filet d...  \n",
      "\n",
      "[1388 rows x 7 columns]\n"
     ]
    }
   ],
   "source": [
    "train_origin = pd.read_csv(\"../data/train.csv\")\n",
    "print(train_origin)"
   ]
  },
  {
   "cell_type": "markdown",
   "id": "d61c6333",
   "metadata": {},
   "source": [
    "Séparer l'ensemble d'entraînement en 2 parties: entrainement et validation"
   ]
  },
  {
   "cell_type": "code",
   "execution_count": 7,
   "id": "e6a6253d",
   "metadata": {},
   "outputs": [
    {
     "name": "stdout",
     "output_type": "stream",
     "text": [
      "Pourcentages des types dans fichier train: \n",
      " Plat principal    46.035015\n",
      "Dessert           29.969104\n",
      "Entrée            23.995881\n",
      "Name: type, dtype: float64 \n",
      "\n",
      "Pourcentages des types dans fichier validation: \n",
      " Plat principal    47.242206\n",
      "Dessert           27.817746\n",
      "Entrée            24.940048\n",
      "Name: type, dtype: float64\n"
     ]
    },
    {
     "data": {
      "text/plain": [
       "971"
      ]
     },
     "execution_count": 7,
     "metadata": {},
     "output_type": "execute_result"
    }
   ],
   "source": [
    "train, validation = train_test_split(train_origin, test_size=0.3)\n",
    "\n",
    "validation['type'].value_counts(normalize=True) * 100\n",
    "\n",
    "print(f\"Pourcentages des types dans fichier train: \\n\", train['type'].value_counts(normalize=True) * 100, \"\\n\")\n",
    "print(f\"Pourcentages des types dans fichier validation: \\n\", validation['type'].value_counts(normalize=True) * 100)\n",
    "\n",
    "len(train)"
   ]
  },
  {
   "cell_type": "markdown",
   "id": "bb159ce4",
   "metadata": {},
   "source": [
    "Sauvegarde des dataframes dans fichiers csv"
   ]
  },
  {
   "cell_type": "code",
   "execution_count": 29,
   "id": "defcf7ef",
   "metadata": {},
   "outputs": [],
   "source": [
    "train.to_csv('..data/train-sep.csv', index=False)\n",
    "validation.to_csv('..data/validation-sep.csv', index=False)"
   ]
  }
 ],
 "metadata": {
  "kernelspec": {
   "display_name": "Python 3 (ipykernel)",
   "language": "python",
   "name": "python3"
  },
  "language_info": {
   "codemirror_mode": {
    "name": "ipython",
    "version": 3
   },
   "file_extension": ".py",
   "mimetype": "text/x-python",
   "name": "python",
   "nbconvert_exporter": "python",
   "pygments_lexer": "ipython3",
   "version": "3.10.12"
  }
 },
 "nbformat": 4,
 "nbformat_minor": 5
}
